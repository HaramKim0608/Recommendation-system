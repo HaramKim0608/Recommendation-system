{
  "nbformat": 4,
  "nbformat_minor": 0,
  "metadata": {
    "colab": {
      "provenance": []
    },
    "kernelspec": {
      "name": "python3",
      "display_name": "Python 3"
    },
    "language_info": {
      "name": "python"
    }
  },
  "cells": [
    {
      "cell_type": "code",
      "execution_count": null,
      "metadata": {
        "id": "H1QNQn8J5PWm"
      },
      "outputs": [],
      "source": [
        "# -*- coding: utf-8 -*-\n",
        "\"\"\"\n",
        "Created on Thu May 24 11:15:44 2018\n",
        "\n",
        "@author: jbk48\n",
        "@editor: lumyjuwon\n",
        "\"\"\""
      ]
    },
    {
      "cell_type": "code",
      "source": [
        "import os\n",
        "import tensorflow as tf\n",
        "import Bi_LSTM as Bi_LSTM\n",
        "import Word2Vec as Word2Vec\n",
        "\n",
        "import gensim\n",
        "import numpy as np\n",
        "import csv\n",
        "from flask import Flask, render_template, request, jsonify\n",
        "from flask_cors import CORS"
      ],
      "metadata": {
        "id": "BhYIQm-T5P8f"
      },
      "execution_count": null,
      "outputs": []
    },
    {
      "cell_type": "code",
      "source": [
        "app = Flask(__name__)\n",
        "\n",
        "@app.route('/post', methods=['post'])"
      ],
      "metadata": {
        "id": "Nf8oZtwr5P_S"
      },
      "execution_count": null,
      "outputs": []
    },
    {
      "cell_type": "code",
      "source": [
        "def post():\n",
        "    data = request.data.decode('UTF-8')\n",
        "    print(\"start\")\n",
        "    print(data)\n",
        "    print(\"data--end\")\n",
        "    str, str2 = Grade(data)\n",
        "    # print(str)\n",
        "    return_str = \",\".join(str)\n",
        "    return_str2 = \",\".join(str2)\n",
        "    print(return_str)\n",
        "    print(return_str2)\n",
        "    return return_str + \"||\" + return_str2"
      ],
      "metadata": {
        "id": "A2HGXxlI5QB2"
      },
      "execution_count": null,
      "outputs": []
    },
    {
      "cell_type": "code",
      "source": [
        "def Convert2Vec(model_name, sentence):\n",
        "    word_vec = []\n",
        "    sub = []\n",
        "    model = gensim.models.word2vec.Word2Vec.load(model_name)\n",
        "    for word in sentence:\n",
        "        if (word in model.wv.vocab):\n",
        "            sub.append(model.wv[word])\n",
        "        else:\n",
        "            sub.append(np.random.uniform(-0.25, 0.25, 300))  # used for OOV words\n",
        "    word_vec.append(sub)\n",
        "    return word_vec"
      ],
      "metadata": {
        "id": "WmxqBWg05QER"
      },
      "execution_count": null,
      "outputs": []
    },
    {
      "cell_type": "code",
      "source": [
        "def Grade(sentence):\n",
        "    tokens = W2V.tokenize(sentence)\n",
        "    embedding = Convert2Vec('Data\\\\post.embedding', tokens)\n",
        "    zero_pad = W2V.Zero_padding(embedding, Batch_size, Maxseq_length, Vector_size)\n",
        "    global sess\n",
        "    result = sess.run(prediction, feed_dict={X: zero_pad, seq_len: [len(tokens)]}) # tf.argmax(prediction, 1)이 여러 prediction 값중 max 값 1개만 가져옴\n",
        "    point = result.ravel().tolist()\n",
        "    # Tag = ['물류일반사무', 'SCM컨설팅', '물류총괄', '물류영업', '물류운영기획', '물류센터운영', '물류설비관리', '물류장비', '구매공급관리',\n",
        "    #        '자재관리', '외주구매대행', '구매기획', '창고관리', '출하관리', '하역관리', '포장관리', '재고관리', '국제물류', '운송관리',\n",
        "    #        '차량관리시스템설계', '항공운송', '해상운송', '보세운송', '택배', '물류IT개발', '데이터관리', '상품기획/개발', '상품입출고',\n",
        "    #        '유통관리사', 'MD/머천다이저', '리테일MD', '패션MD', '식품MD', '가맹점관리', '해외/무역 영업', '발주/출고 관리', '오더관리',\n",
        "    #        '수출입사무', '무역회계', '무역영어', '무역중개인', '관세사', '세관통관', '선적', 'LC신용장', '통관대리인', '바이어 관리', '운전기사',\n",
        "    #        '버스운전', '택시운전', '학원차량', '승합기사', '경영기획', '전략', '조직관리', '신규사업기획', '서비스기획', '경영지원', '데이터분석',\n",
        "    #        'HRM', '채용/면접', '인사기획', '성과관리', '노무관리', '노사관리', '교육훈련', '인재개발/기획', '복리후생', '마케팅 기획', '프로모션',\n",
        "    #        '광고', '시장조사분석', '온라인마케팅', 'CRM', '업무제휴', '브랜드', '전시', '판촉', '해외마케팅', '재무회계', '재무기획', '자금조달', '급여관리',\n",
        "    #        '4대보험', '세무관리', '원가회계관리', '회계전산', '회계감사/세무조사', '사무행정', '시설관리', '비품관리', '자산관리', '총무', '문서수발',\n",
        "    #        '법무', '임원비서', '수행비서', '전문비서', '일반영업', '자동차영업', '제약영업', '식품/음료영업', '주류영업', '부동산영업', '가맹점영업',\n",
        "    #        '가전/휴대폰 영업', '화장품영업', '렌탈영업', '의료기기영업', '영업관리/지원', '영업기획', '거래처관리', '고객관리', '외주관리', '대리점/가맹점 관리',\n",
        "    #        '거래처개발', '매출분석관리', '채권관리', '시스템영업', '솔루션영업', 'HW/SW영업', 'SI영업', '어플리케이션 영업', 'Web-site구축 영업',\n",
        "    #        '보안시스템영업', '설비영업', '금융영업', '보험영업', '금융자산관리', '투자상담', '여신상담', '손해사정', '대출영업', '카드영업', 'Web프로그래머',\n",
        "    #        'Java / jsp', 'ASP', 'PHP', 'HTML', 'IOS 앱개발', 'Android 앱개발', 'Windows', 'Java', 'Oracle', '서버관리', '네트워크관리',\n",
        "    #        '서버구축', '시스템 컨설팅', '보안 컨설팅', '보안관제/기술', '포토샵', '일러스트레이터', '웹UI', 'HTML', 'AI', '빅데이터', '머신러닝', '클라우드',\n",
        "    #        '사물인터넷', '게임기획', '게임시나리오', '게임디자인', '게임케릭터/아이템', '사이트운영', '컨텐츠운영', '쇼핑몰/오픈마켓', '컨텐츠제작', '하드웨어',\n",
        "    #        '소프트웨어', '유지보수', '펌웨어', '시스템프로그래머', '데이터베이스', 'ERP시스템', '웹마케팅', '소셜마케팅', '웹기획', '모바일기획', '제조/가공',\n",
        "    #        '조립', '기계/설비', '용접', '포장/코팅', '금속', '전기/전자/제어', '반도체/디스플레이', '화학/에너지', '섬유/의류/패션', '바이오/제약', '인쇄/제본',\n",
        "    #        '생산관리', '품질검사', '공정관리', '품질보증', 'HACCP', '안전/환경관리', '원가관리', 'ISO', 'CAD', 'CAM', '기계설계', '금형설계', '토목설계',\n",
        "    #        '요리사', '서빙', '매니저', '제과/제빵사', '바리스타', '급식', '파티쉐', '영양사', '주방보조', '헬스트레이너', '스포츠센터', '골프강사', '요가강사',\n",
        "    #        '수영강사', '기타레저스포츠강사', '여행사', '항공사', '가이드', '승무원', '호텔사무', '프런트', '객실관리', '시설관리', '건물관리', '경비', '보안',\n",
        "    #        '기계/전기 관리', '산업안전기사', '주차관리', '피부관리', '메이크업', '헤어디자이너', '네일아트', '다이어트', '애견미용', '코디네이터', '고객상담',\n",
        "    #        'TM인/아웃바운드', 'CS', '회원관리', '여론조사/리서치', '매장판매', '매장관리', '인테리어설계', '실내건축', '건축설계', '리모델링', '건축시공', '실내디자인',\n",
        "    #        '토목기사', '조경', '측량', '상하수도', '도로설계', '기계설비', '전기설비', '산업안전관리', '전기배선', '소방설비', '통신설비', '엘리베이터', '환경관리',\n",
        "    #        '컨설턴트', '금융컨설팅', 'M&A', 'MBA', 'HR컨설팅', '부동산컨설팅', '애널리스트', '펀드매니저', '부동산투자', '주식투자', '투자상담', '번역', '통역사',\n",
        "    #        '관광통역', '외화번역', '동시통역', '통번역어학원', '헤드헌터', '노무사', '경력설계', '직업상담사', '인재컨설팅', '변호사', '변리사', '법무사', '특허',\n",
        "    #        '법무대리인', '상표출원', '저작권', '사무장', '사회복지사', '요양보호사', '노인복지시설', '청소년지도사', '심리치료사', '특수교사', '재활교사', '생활지도사',\n",
        "    #        '세무사', '회계사', 'AICPA', '재무', 'PD/연출', '방송엔지니어', 'AD/조연출', 'FD/연출보조', '방송제작', '홈쇼핑방송', '촬영', '영상편집', '방송카메라',\n",
        "    #        '방송미술', '드론촬영', '방송CG', '촬영보조', '광고기획', '광고제작', '카피라이터', 'PPL', 'CM플래너', '아나운서/진행', '작가/시나리오', '기자',\n",
        "    #        '엔터테인먼트', '공연/무대/스텝', '의사', '치과', '한의사', '수의사', '약사', '간호사', '간호조무사', '사무/원무', '보험심사과', '의료 기타', '유치원/보육',\n",
        "    #        '초중고특수학교', '입시/보습학원', '외국어 어학원', '학습지/과외', '전문직업 강사', '대학교수/행정직', '교육기획', '학원관리/운영']\n",
        "    Tag = ['물류일반사무', 'SCM컨설팅', '물류총괄', '물류영업', '물류운영기획', '물류센터운영', '물류설비관리', '물류장비', '구매공급관리',\n",
        "           '자재관리', '외주구매대행', '구매기획', '창고관리', '출하관리', '하역관리', '포장관리', '재고관리', '국제물류', '운송관리',\n",
        "           '차량관리시스템설계', '항공운송', '해상운송', '보세운송', '택배', '물류IT개발', '데이터관리', '상품기획/개발', '상품입출고',\n",
        "           '유통관리사', 'MD/머천다이저', '리테일MD', '패션MD', '식품MD', '가맹점관리', '해외/무역 영업', '발주/출고 관리', '오더관리',\n",
        "           '수출입사무', '무역회계', '무역영어', '무역중개인', '관세사', '세관통관', '선적', 'LC신용장', '통관대리인', '바이어 관리', '운전기사',\n",
        "           '버스운전', '택시운전', '학원차량', '승합기사', '경영기획', '전략', '조직관리', '신규사업기획', '서비스기획', '경영지원', '데이터분석',\n",
        "           'HRM', '채용/면접', '인사기획', '성과관리', '노무관리', '노사관리', '교육훈련', '인재개발/기획', '복리후생', '마케팅 기획', '프로모션',\n",
        "           '광고', '시장조사분석', '온라인마케팅', 'CRM', '업무제휴', '브랜드', '전시', '판촉', '해외마케팅', '재무회계', '재무기획', '자금조달', '급여관리',\n",
        "           '4대보험', '세무관리', '원가회계관리', '회계전산', '회계감사/세무조사', '사무행정', '시설관리', '비품관리', '자산관리', '총무', '문서수발',\n",
        "           '법무', '임원비서', '수행비서', '전문비서', '일반영업', '자동차영업', '제약영업', '식품/음료영업', '주류영업', '부동산영업', '가맹점영업',\n",
        "           '가전/휴대폰 영업', '화장품영업', '렌탈영업', '의료기기영업', '영업관리/지원', '영업기획', '거래처관리', '고객관리', '외주관리', '대리점/가맹점 관리',\n",
        "           '거래처개발', '매출분석관리', '채권관리', '시스템영업', '솔루션영업', 'HW/SW영업', 'SI영업', '어플리케이션 영업', 'Web-site구축 영업',\n",
        "           '보안시스템영업', '설비영업', '금융영업', '보험영업', '금융자산관리', '여신상담', '손해사정', '카드영업', 'Web프로그래머',\n",
        "           'Java / jsp', 'ASP', 'PHP', 'HTML', 'IOS 앱개발', 'Android 앱개발', 'Windows', 'Java', 'Oracle', '서버관리', '네트워크관리',\n",
        "           '서버구축', '시스템 컨설팅', '보안 컨설팅', '보안관제/기술', '포토샵', '일러스트레이터', '웹UI', 'HTML', 'AI', '빅데이터', '머신러닝', '클라우드',\n",
        "           '사물인터넷', '게임기획', '게임시나리오', '게임디자인', '게임케릭터/아이템', '사이트운영', '컨텐츠운영', '쇼핑몰/오픈마켓', '컨텐츠제작', '하드웨어',\n",
        "           '소프트웨어', '유지보수', '펌웨어', '시스템프로그래머', '데이터베이스', 'ERP시스템', '웹마케팅', '소셜마케팅', '웹기획', '모바일기획', '제조/가공',\n",
        "           '조립', '기계/설비', '용접', '포장/코팅', '금속', '전기/전자/제어', '반도체/디스플레이', '화학/에너지', '섬유/의류/패션', '바이오/제약', '인쇄/제본',\n",
        "           '생산관리', '품질검사', '공정관리', '품질보증', 'HACCP', '안전/환경관리', '원가관리', 'ISO', 'CAD', 'CAM', '기계설계', '금형설계', '토목설계',\n",
        "           '요리사', '서빙', '매니저', '제과/제빵사', '바리스타', '급식', '파티쉐', '영양사', '주방보조', '헬스트레이너', '스포츠센터', '골프강사', '요가강사',\n",
        "           '여행사', '항공사', '가이드', '승무원', '호텔사무', '프런트', '객실관리', '시설관리', '건물관리', '경비', '보안',\n",
        "           '기계/전기 관리', '산업안전기사', '주차관리', '피부관리', '메이크업', '헤어디자이너', '다이어트', '애견미용', '코디네이터', '고객상담',\n",
        "           'TM인/아웃바운드', 'CS', '회원관리', '여론조사/리서치', '매장판매', '매장관리', '인테리어설계', '실내건축', '건축설계', '리모델링', '건축시공', '실내디자인',\n",
        "           '토목기사', '조경', '측량', '상하수도', '도로설계', '기계설비', '전기설비', '산업안전관리', '전기배선', '소방설비', '통신설비', '엘리베이터', '환경관리',\n",
        "           '컨설턴트', '금융컨설팅', 'M&A', 'MBA', 'HR컨설팅', '부동산컨설팅', '애널리스트', '펀드매니저', '부동산투자', '주식투자', '투자상담', '번역', '통역사',\n",
        "           '관광통역', '외화번역', '동시통역', '통번역어학원', '헤드헌터', '노무사', '경력설계', '직업상담사', '인재컨설팅', '변호사', '변리사', '법무사', '특허',\n",
        "           '법무대리인', '상표출원', '저작권', '사무장', '사회복지사', '노인복지시설', '청소년지도사', '심리치료사', '특수교사', '재활교사', '생활지도사',\n",
        "           '세무사', '회계사', 'AICPA', '재무', 'PD/연출', '방송엔지니어', 'AD/조연출', 'FD/연출보조', '방송제작', '홈쇼핑방송', '촬영', '영상편집', '방송카메라',\n",
        "           '방송미술', '드론촬영', '방송CG', '촬영보조', '광고기획', '광고제작', '카피라이터', 'PPL', 'CM플래너', '아나운서/진행', '작가/시나리오', '기자',\n",
        "           '엔터테인먼트', '공연/무대/스텝', '의사', '치과', '한의사', '수의사', '약사', '간호사', '간호조무사', '사무/원무', '보험심사과', '의료 기타', '유치원/보육',\n",
        "           '초중고특수학교', '입시/보습학원', '외국어 어학원', '학습지/과외', '전문직업 강사', '대학교수/행정직', '교육기획', '학원관리/운영']\n",
        "    return_val = []\n",
        "    val = list(zip(point, Tag))\n",
        "    val.sort()\n",
        "    val.reverse()\n",
        "    # print(val)\n",
        "    revision_val_total = 0\n",
        "    return_val_revision = []\n",
        "    for i, t in val:\n",
        "        # if (i * 100 > 15):\n",
        "        return_val.append(t + \":\" + str(round(i * 100, 2)))\n",
        "    revision_val = 0\n",
        "    for i in range(0, 20):\n",
        "        revision_val_total = revision_val_total + float(return_val[i].split(':')[1])\n",
        "        # print(return_val[i].split(':')[1])\n",
        "    for i in range(0, 20):\n",
        "        revision_val = float(return_val[i].split(':')[1]) / revision_val_total * 100\n",
        "        # print(revision_val)\n",
        "        return_val_revision.append(return_val[i].split(':')[0] + \":\" + str(round(revision_val, 2)))\n",
        "    print(return_val_revision)\n",
        "    print(return_val)\n",
        "\n",
        "    return return_val, return_val_revision"
      ],
      "metadata": {
        "id": "btxsCeq55QGz"
      },
      "execution_count": null,
      "outputs": []
    },
    {
      "cell_type": "code",
      "source": [
        "if __name__ == \"__main__\":\n",
        "    W2V = Word2Vec.Word2Vec()\n",
        "\n",
        "    Batch_size = 1\n",
        "    Vector_size = 300\n",
        "    Maxseq_length = 10000  # Max length of training data\n",
        "    learning_rate = 0.001\n",
        "    lstm_units = 128\n",
        "    num_class = 341\n",
        "    keep_prob = 1.0\n",
        "\n",
        "    X = tf.placeholder(tf.float32, shape=[None, Maxseq_length, Vector_size], name='X')\n",
        "    Y = tf.placeholder(tf.float32, shape=[None, num_class], name='Y')\n",
        "    seq_len = tf.placeholder(tf.int32, shape=[None])\n",
        "\n",
        "    BiLSTM = Bi_LSTM.Bi_LSTM(lstm_units, num_class, keep_prob)\n",
        "\n",
        "    with tf.variable_scope(\"loss\", reuse=tf.AUTO_REUSE):\n",
        "        logits = BiLSTM.logits(X, BiLSTM.W, BiLSTM.b, seq_len)\n",
        "        loss, optimizer = BiLSTM.model_build(logits, Y, learning_rate)\n",
        "\n",
        "    prediction = tf.nn.softmax(logits)  # softmax\n",
        "\n",
        "    saver = tf.train.Saver()\n",
        "    init = tf.global_variables_initializer()\n",
        "    modelName = \"Data\\\\Bi_LSTM.model\"\n",
        "\n",
        "    sess = tf.Session()\n",
        "    sess.run(init)\n",
        "    saver.restore(sess, modelName)\n",
        "\n",
        "    CORS(app)\n",
        "    app.run(host='0.0.0.0')"
      ],
      "metadata": {
        "id": "oGV3tg0I5QJD"
      },
      "execution_count": null,
      "outputs": []
    },
    {
      "cell_type": "code",
      "source": [
        "#Grade(\"토목엔지니어링 연구개발 분야에 의욕적으로 참여할 신입/경력사원을 모집합니다.1. 모집분야 : 토목엔지니어링 연구개발 분야2. 모집부문 :① Web 설계플랫폼 개발 (신입/경력)② 프로그램 개발 (경력)③ 토목엔지니어링 BIM (경력)3. 모집인원 : 각 모집부문 신입자/경력자 0명4. 근무지역 : 국내(본사)5. 근무형태 : 계약직(1~2년)※ 계약 완료되는 시점에 담당자와 협의하여 정규직 전환여부 결정\")\n",
        "# while(True):#     try:\n",
        "#         #s = input(\"문장을 입력하세요 : \")\n",
        "#\n",
        "#     except:\n",
        "#         pass"
      ],
      "metadata": {
        "id": "2W4bvtZP5QLy"
      },
      "execution_count": null,
      "outputs": []
    }
  ]
}